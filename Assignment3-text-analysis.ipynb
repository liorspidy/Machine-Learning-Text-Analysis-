{
 "cells": [
  {
   "cell_type": "markdown",
   "metadata": {},
   "source": [
    "# Assignment 3 - Text Analysis\n",
    "An explanation this assignment could be found in the .pdf explanation document"
   ]
  },
  {
   "cell_type": "markdown",
   "metadata": {},
   "source": [
    "\n",
    "## Materials to review for this assignment\n",
    "<h4>From Moodle:</h4> \n",
    "<h5><u>Review the notebooks regarding the following python topics</u>:</h5>\n",
    "<div class=\"alert alert-info\">\n",
    "&#x2714; <b>Working with strings</b> (tutorial notebook)<br/>\n",
    "&#x2714; <b>Text Analysis</b> (tutorial notebook)<br/>\n",
    "&#x2714; <b>Hebrew text analysis tools (tokenizer, wordnet)</b> (moodle example)<br/>\n",
    "&#x2714; <b>(brief review) All previous notebooks</b><br/>\n",
    "</div> \n",
    "<h5><u>Review the presentations regarding the following topics</u>:</h5>\n",
    "<div class=\"alert alert-info\">\n",
    "&#x2714; <b>Text Analysis</b> (lecture presentation)<br/>\n",
    "&#x2714; <b>(brief review) All other presentations</b><br/>\n",
    "</div>"
   ]
  },
  {
   "cell_type": "markdown",
   "metadata": {},
   "source": [
    "## Personal Details:"
   ]
  },
  {
   "cell_type": "code",
   "execution_count": 4,
   "metadata": {},
   "outputs": [],
   "source": [
    "# Details Student 1:\n",
    "# Lior Fridman 206798902 computer-science\n",
    "# Details Student 2:\n"
   ]
  },
  {
   "cell_type": "markdown",
   "metadata": {},
   "source": [
    "## Preceding Step - import modules (packages)\n",
    "This step is necessary in order to use external modules (packages). <br/>"
   ]
  },
  {
   "cell_type": "code",
   "execution_count": 5,
   "metadata": {},
   "outputs": [],
   "source": [
    "# --------------------------------------\n",
    "import pandas as pd\n",
    "import numpy as np\n",
    "# --------------------------------------\n",
    "\n",
    "\n",
    "# --------------------------------------\n",
    "# ------------- visualizations:\n",
    "import seaborn as sns\n",
    "import matplotlib.pyplot as plt\n",
    "from matplotlib.colors import ListedColormap\n",
    "# --------------------------------------\n",
    "\n",
    "\n",
    "# ---------------------------------------\n",
    "import sklearn\n",
    "from sklearn import preprocessing, metrics, pipeline, model_selection, feature_extraction \n",
    "from sklearn import naive_bayes, linear_model, svm, neural_network, neighbors, tree\n",
    "from sklearn import decomposition, cluster\n",
    "\n",
    "from sklearn.model_selection import train_test_split, cross_val_score, GridSearchCV \n",
    "from sklearn.pipeline import Pipeline\n",
    "from sklearn.metrics import accuracy_score, confusion_matrix\n",
    "from sklearn.metrics import precision_score, recall_score, f1_score\n",
    "from sklearn.metrics import mean_squared_error, r2_score, silhouette_score\n",
    "from sklearn.preprocessing import MinMaxScaler, StandardScaler, LabelEncoder\n",
    "\n",
    "from sklearn.svm import LinearSVC\n",
    "from sklearn.neural_network import MLPClassifier\n",
    "from sklearn.linear_model import Perceptron, SGDClassifier\n",
    "from sklearn.decomposition import PCA\n",
    "from sklearn.cluster import KMeans\n",
    "from sklearn.naive_bayes import MultinomialNB, GaussianNB\n",
    "from sklearn.neighbors import KNeighborsClassifier\n",
    "from sklearn.tree import DecisionTreeClassifier\n",
    "# ---------------------------------------\n",
    "\n",
    "\n",
    "# ----------------- output and visualizations: \n",
    "import warnings\n",
    "from sklearn.exceptions import ConvergenceWarning\n",
    "warnings.simplefilter(\"ignore\")\n",
    "warnings.simplefilter(action='ignore', category=FutureWarning)\n",
    "warnings.simplefilter(\"ignore\", category=ConvergenceWarning)\n",
    "# show several prints in one cell. This will allow us to condence every trick in one cell.\n",
    "from IPython.core.interactiveshell import InteractiveShell\n",
    "InteractiveShell.ast_node_interactivity = \"all\"\n",
    "%matplotlib inline\n",
    "pd.pandas.set_option('display.max_columns', None)\n",
    "pd.set_option('display.float_format', lambda x: '%.3f' % x)\n",
    "# ---------------------------------------"
   ]
  },
  {
   "cell_type": "markdown",
   "metadata": {},
   "source": [
    "### Text analysis and String manipulation imports:"
   ]
  },
  {
   "cell_type": "code",
   "execution_count": 6,
   "metadata": {},
   "outputs": [],
   "source": [
    "# --------------------------------------\n",
    "# --------- Text analysis and Hebrew text analysis imports:\n",
    "# vectorizers:\n",
    "from sklearn.feature_extraction import text\n",
    "from sklearn.feature_extraction.text import CountVectorizer, TfidfVectorizer\n",
    "\n",
    "# regular expressions:\n",
    "import re\n",
    "# --------------------------------------"
   ]
  },
  {
   "cell_type": "markdown",
   "metadata": {},
   "source": [
    "### (optional) Hebrew text analysis - WordNet (for Hebrew)\n",
    "Note: the WordNet is not a must"
   ]
  },
  {
   "cell_type": "markdown",
   "metadata": {},
   "source": [
    "#### (optional) Only if you didn't install Wordnet (for Hebrew) use:"
   ]
  },
  {
   "cell_type": "code",
   "execution_count": 7,
   "metadata": {},
   "outputs": [],
   "source": [
    "# word net installation:\n",
    "\n",
    "# unmark if you want to use and need to install\n",
    "# !pip install wn\n",
    "# !python -m wn download omw-he:1.4"
   ]
  },
  {
   "cell_type": "code",
   "execution_count": 8,
   "metadata": {},
   "outputs": [],
   "source": [
    "# word net import:\n",
    "\n",
    "# unmark if you want to use:\n",
    "# import wn"
   ]
  },
  {
   "cell_type": "markdown",
   "metadata": {},
   "source": [
    "### (optional) Hebrew text analysis - hebrew_tokenizer (Tokenizer for Hebrew)\n",
    "Note: the hebrew_tokenizer is not a must"
   ]
  },
  {
   "cell_type": "markdown",
   "metadata": {},
   "source": [
    "#### (optional) Only if you didn't install hebrew_tokenizer use:"
   ]
  },
  {
   "cell_type": "code",
   "execution_count": 9,
   "metadata": {},
   "outputs": [],
   "source": [
    "# Hebrew tokenizer installation:\n",
    "\n",
    "# unmark if you want to use and need to install:\n",
    "# !pip install hebrew_tokenizer"
   ]
  },
  {
   "cell_type": "code",
   "execution_count": 10,
   "metadata": {},
   "outputs": [
    {
     "name": "stdout",
     "output_type": "stream",
     "text": [
      "c:\\Users\\liors\\Documents\\מדעי המחשב שנה ג\\machineLearning\\assignment3-text_analysis\n"
     ]
    }
   ],
   "source": [
    "# Hebrew tokenizer import:\n",
    "\n",
    "# unmark if you want to use:\n",
    "import hebrew_tokenizer as ht"
   ]
  },
  {
   "cell_type": "markdown",
   "metadata": {},
   "source": [
    "### Reading input files\n",
    "Reading input files for train annotated corpus (raw text data) corpus and for the test corpus"
   ]
  },
  {
   "cell_type": "code",
   "execution_count": 11,
   "metadata": {},
   "outputs": [],
   "source": [
    "train_filename = 'annotated_corpus_for_train.csv'\n",
    "test_filename  = 'corpus_for_test.csv'\n",
    "df_train = pd.read_csv(train_filename, index_col=None, encoding='utf-8')\n",
    "df_test  = pd.read_csv(test_filename, index_col=None, encoding='utf-8')"
   ]
  },
  {
   "cell_type": "code",
   "execution_count": 12,
   "metadata": {},
   "outputs": [
    {
     "data": {
      "text/html": [
       "<div>\n",
       "<style scoped>\n",
       "    .dataframe tbody tr th:only-of-type {\n",
       "        vertical-align: middle;\n",
       "    }\n",
       "\n",
       "    .dataframe tbody tr th {\n",
       "        vertical-align: top;\n",
       "    }\n",
       "\n",
       "    .dataframe thead th {\n",
       "        text-align: right;\n",
       "    }\n",
       "</style>\n",
       "<table border=\"1\" class=\"dataframe\">\n",
       "  <thead>\n",
       "    <tr style=\"text-align: right;\">\n",
       "      <th></th>\n",
       "      <th>story</th>\n",
       "      <th>gender</th>\n",
       "    </tr>\n",
       "  </thead>\n",
       "  <tbody>\n",
       "    <tr>\n",
       "      <th>0</th>\n",
       "      <td>כשחבר הזמין אותי לחול, לא באמת חשבתי שזה יקרה,...</td>\n",
       "      <td>m</td>\n",
       "    </tr>\n",
       "    <tr>\n",
       "      <th>1</th>\n",
       "      <td>לפני שהתגייסתי לצבא עשיתי כל מני מיונים ליחידו...</td>\n",
       "      <td>m</td>\n",
       "    </tr>\n",
       "    <tr>\n",
       "      <th>2</th>\n",
       "      <td>מאז שהתחילו הלימודים חלומו של כל סטודנט זה הפנ...</td>\n",
       "      <td>f</td>\n",
       "    </tr>\n",
       "    <tr>\n",
       "      <th>3</th>\n",
       "      <td>כשהייתי ילד, מטוסים היה הדבר שהכי ריתק אותי. ב...</td>\n",
       "      <td>m</td>\n",
       "    </tr>\n",
       "    <tr>\n",
       "      <th>4</th>\n",
       "      <td>‏הייתי מדריכה בכפר נוער ומתאם הכפר היינו צריכי...</td>\n",
       "      <td>f</td>\n",
       "    </tr>\n",
       "    <tr>\n",
       "      <th>5</th>\n",
       "      <td>לפני כ3 חודשים טסתי לרומא למשך שבוע. טסתי במטו...</td>\n",
       "      <td>f</td>\n",
       "    </tr>\n",
       "    <tr>\n",
       "      <th>6</th>\n",
       "      <td>אני כבר שנתיים נשוי והשנה אני ואישתי סוף סוף י...</td>\n",
       "      <td>m</td>\n",
       "    </tr>\n",
       "    <tr>\n",
       "      <th>7</th>\n",
       "      <td>השנה התחלנו שיפוץ בדירה שלנו בתל אביב. הדירה ה...</td>\n",
       "      <td>f</td>\n",
       "    </tr>\n",
       "  </tbody>\n",
       "</table>\n",
       "</div>"
      ],
      "text/plain": [
       "                                               story gender\n",
       "0  כשחבר הזמין אותי לחול, לא באמת חשבתי שזה יקרה,...      m\n",
       "1  לפני שהתגייסתי לצבא עשיתי כל מני מיונים ליחידו...      m\n",
       "2  מאז שהתחילו הלימודים חלומו של כל סטודנט זה הפנ...      f\n",
       "3  כשהייתי ילד, מטוסים היה הדבר שהכי ריתק אותי. ב...      m\n",
       "4  ‏הייתי מדריכה בכפר נוער ומתאם הכפר היינו צריכי...      f\n",
       "5  לפני כ3 חודשים טסתי לרומא למשך שבוע. טסתי במטו...      f\n",
       "6  אני כבר שנתיים נשוי והשנה אני ואישתי סוף סוף י...      m\n",
       "7  השנה התחלנו שיפוץ בדירה שלנו בתל אביב. הדירה ה...      f"
      ]
     },
     "execution_count": 12,
     "metadata": {},
     "output_type": "execute_result"
    },
    {
     "data": {
      "text/plain": [
       "(753, 2)"
      ]
     },
     "execution_count": 12,
     "metadata": {},
     "output_type": "execute_result"
    }
   ],
   "source": [
    "df_train.head(8)\n",
    "df_train.shape"
   ]
  },
  {
   "cell_type": "code",
   "execution_count": 13,
   "metadata": {},
   "outputs": [
    {
     "data": {
      "text/html": [
       "<div>\n",
       "<style scoped>\n",
       "    .dataframe tbody tr th:only-of-type {\n",
       "        vertical-align: middle;\n",
       "    }\n",
       "\n",
       "    .dataframe tbody tr th {\n",
       "        vertical-align: top;\n",
       "    }\n",
       "\n",
       "    .dataframe thead th {\n",
       "        text-align: right;\n",
       "    }\n",
       "</style>\n",
       "<table border=\"1\" class=\"dataframe\">\n",
       "  <thead>\n",
       "    <tr style=\"text-align: right;\">\n",
       "      <th></th>\n",
       "      <th>test_example_id</th>\n",
       "      <th>story</th>\n",
       "    </tr>\n",
       "  </thead>\n",
       "  <tbody>\n",
       "    <tr>\n",
       "      <th>0</th>\n",
       "      <td>0</td>\n",
       "      <td>כל קיץ אני והמשפחה נוסעים לארצות הברית לוס אנג...</td>\n",
       "    </tr>\n",
       "    <tr>\n",
       "      <th>1</th>\n",
       "      <td>1</td>\n",
       "      <td>הגעתי לשירות המדינה אחרי שנתיים כפעיל בתנועת \"...</td>\n",
       "    </tr>\n",
       "    <tr>\n",
       "      <th>2</th>\n",
       "      <td>2</td>\n",
       "      <td>אחת האהבות הגדולות שלי אלו הכלבים שלי ושל אישת...</td>\n",
       "    </tr>\n",
       "  </tbody>\n",
       "</table>\n",
       "</div>"
      ],
      "text/plain": [
       "   test_example_id                                              story\n",
       "0                0  כל קיץ אני והמשפחה נוסעים לארצות הברית לוס אנג...\n",
       "1                1  הגעתי לשירות המדינה אחרי שנתיים כפעיל בתנועת \"...\n",
       "2                2  אחת האהבות הגדולות שלי אלו הכלבים שלי ושל אישת..."
      ]
     },
     "execution_count": 13,
     "metadata": {},
     "output_type": "execute_result"
    },
    {
     "data": {
      "text/plain": [
       "(323, 2)"
      ]
     },
     "execution_count": 13,
     "metadata": {},
     "output_type": "execute_result"
    }
   ],
   "source": [
    "df_test.head(3)\n",
    "df_test.shape"
   ]
  },
  {
   "cell_type": "markdown",
   "metadata": {},
   "source": [
    "### Your implementation:\n",
    "Write your code solution in the following code-cells"
   ]
  },
  {
   "cell_type": "code",
   "execution_count": 25,
   "metadata": {},
   "outputs": [],
   "source": [
    "from sklearn.metrics import make_scorer\n",
    "from sklearn.feature_selection import SelectKBest, chi2\n",
    "\n",
    "# hebrew tokenizer function\n",
    "def tokenizer(text):\n",
    "    tokens = ht.tokenize(text)\n",
    "    tokens_list = []\n",
    "    for grp, token, token_num, (start_index, end_index) in tokens:\n",
    "        if grp == 'HEBREW':\n",
    "            tokens_list.append(token)\n",
    "    return tokens_list\n",
    "    \n",
    "# Hyperparameter tuning parameters\n",
    "TUNING_PARAMETERS = {\n",
    "    'Decision Tree': {\n",
    "        'classifier': DecisionTreeClassifier(),\n",
    "        'params': {\n",
    "            'criterion': ['gini', 'entropy'],\n",
    "            'max_depth': [10, 20],\n",
    "            'min_samples_split': [2, 5, 10],\n",
    "            'min_samples_leaf': [1, 2, 4]\n",
    "        }\n",
    "    },\n",
    "    'Linear Support Vector Machine': {\n",
    "        'classifier': LinearSVC(),\n",
    "        'params': {\n",
    "            'C': [0.1, 1, 10],\n",
    "            'max_iter': [1000, 2000, 3000]\n",
    "        }\n",
    "    },\n",
    "        'KNN': {\n",
    "        'classifier': KNeighborsClassifier(),\n",
    "        'params': {\n",
    "            'n_neighbors': [3, 5, 7],\n",
    "            'p': [1, 2]\n",
    "        }\n",
    "    },\n",
    "}\n",
    "\n",
    "def find_best_model(X_train_dense, y_train):\n",
    "    best_model = None\n",
    "    best_model_name = \"\"\n",
    "    best_avg_f1 = 0\n",
    "    \n",
    "    cv = 10 \n",
    "    \n",
    "    models = {\n",
    "        'Decision Tree': DecisionTreeClassifier(),\n",
    "        'Linear Support Vector Machine': LinearSVC(),\n",
    "        'SGD Classifier': SGDClassifier(),\n",
    "        'KNN': KNeighborsClassifier(), \n",
    "    }\n",
    "\n",
    "    for model_name, model in models.items():\n",
    "        # fit the model\n",
    "        model.fit(X_train_dense, y_train)\n",
    "\n",
    "        if model_name in TUNING_PARAMETERS:\n",
    "            classifier = TUNING_PARAMETERS[model_name]['classifier']\n",
    "            params = TUNING_PARAMETERS[model_name]['params']\n",
    "\n",
    "            cls_cv = GridSearchCV(classifier, params, cv=cv, scoring='f1_macro')\n",
    "\n",
    "            # fit GridSearchCV on the models\n",
    "            grid_search_res = cls_cv.fit(X_train_dense, y_train)\n",
    "\n",
    "            best_params_model = grid_search_res.best_estimator_\n",
    "            \n",
    "        else:\n",
    "            best_params_model = model\n",
    "\n",
    "        # calculate f1 scores using cross-validation\n",
    "        f1_scores = cross_val_score(best_params_model, X_train_dense, y_train, scoring=make_scorer(f1_score, average='macro'), cv=10)\n",
    "        average_f1 = f1_scores.mean()\n",
    "\n",
    "        if average_f1 > best_avg_f1:\n",
    "            best_avg_f1 = average_f1\n",
    "            best_model = best_params_model\n",
    "            best_model_name = model_name\n",
    "\n",
    "    print('----------------------------------------------------')\n",
    "    return best_model, best_model_name, best_avg_f1"
   ]
  },
  {
   "cell_type": "code",
   "execution_count": 22,
   "metadata": {},
   "outputs": [
    {
     "name": "stdout",
     "output_type": "stream",
     "text": [
      "----------------------------------------------------\n",
      "Average F1 score for Decision Tree: 0.8269943204302541\n",
      "Found a good model: Decision Tree with an average F1 score of 0.8269943204302541\n",
      "----------------------------------------------------\n",
      "Tokens of selected k best features: ['אוהבת', 'איטלקית', 'איש בשטח', 'איש בשטח סגור', 'אני זוכרת', 'אני חושבת', 'אני חייבת', 'אני יודעת', 'אני יכולה', 'אני עובדת', 'אני שמחה', 'את האירוע', 'ביום השני הציעו', 'בכלב', 'בן הזוג', 'בן הזוג שלי', 'בן זוגי', 'בסרט אימה', 'בשטח סגור', \"ג'וני\", 'דגל', 'דייטים', 'האקתון', 'הבן זוג', 'הגורה', 'הדגל', 'הולכת', 'החתן', 'היה ממש יפה', 'הייתי בטוחה', 'הייתי צריכה', 'המורים', 'המצגת', 'העסק', 'הפנגויה', 'הציעו לי', 'הציעו לי נישואים', 'הרגשתי כמו בסרט', 'הריצוף', 'השטיפה', 'השני הציעו', 'השני הציעו לי', 'ובעלי', 'והריצוף', 'ועד הבית', 'ותמרה', 'זוגי', 'זוכרת', 'זוכרת את', 'חברות', 'חברות שלי', 'חופה', 'חופה מצומצמת', 'חושבת', 'חייבת', 'טו', 'טו טו', 'טירן', 'טסתי לתאילנד', 'יודעת', 'יכולה', 'ילדה', 'ילדה קטנה', 'ים המלח', 'ישי', 'ישי ריבו', 'כל אחת', 'כלב', 'כלבים', 'כמו בסרט', 'כמו בסרט אימה', 'כשבועיים לאחר', 'לאחר התלבטויות רבות', 'לאחר עוד יום', 'להביא כלב', 'להמתין עוד', 'לו בית', 'לי נישואים', 'למדנו', \"מאצ'ה\", 'מרגישה', 'נועה', 'על הטיסה', 'על המדרכה', 'על המצגת', 'עם חברות', 'פארקר', \"צ'יקו\", 'צריכה', 'צריכות', 'קוראת', 'ריבו', 'ריילי', 'שאני אוהבת', 'שאני זוכרת', 'שאני יכולה', 'שאני צריכה', 'שרון', 'שתוך', 'ת']\n"
     ]
    }
   ],
   "source": [
    "# initializing a flag to track if a good model was found\n",
    "good_model_found = False\n",
    "\n",
    "# iterate the find_best_model function until a good model is found\n",
    "while not good_model_found:\n",
    "    # initializing the vectorizer\n",
    "    tfidf_vectorizer = TfidfVectorizer(tokenizer=tokenizer, ngram_range=(1, 3))\n",
    "\n",
    "    # fit and transform the data using TF-IDF\n",
    "    X_train_tfidf = tfidf_vectorizer.fit_transform(df_train['story'])\n",
    "    y_train = df_train['gender']\n",
    "    X_test_tfidf = tfidf_vectorizer.transform(df_test['story'])\n",
    "\n",
    "    # feature selection\n",
    "    k_best = SelectKBest(score_func=chi2, k=100)\n",
    "    X_train_selected = k_best.fit_transform(X_train_tfidf, y_train)\n",
    "    X_test_selected = k_best.transform(X_test_tfidf)\n",
    "\n",
    "    # Convert sparse matrix to dense array\n",
    "    X_train_selected_dense = X_train_selected.toarray()\n",
    "    X_test_selected_dense = X_test_selected.toarray()\n",
    "\n",
    "    # PCA on the training data\n",
    "    pca = PCA(n_components=99)\n",
    "    X_train_pca = pca.fit_transform(X_train_selected_dense)\n",
    "    X_test_pca = pca.transform(X_test_selected_dense)\n",
    "\n",
    "    best_model, best_model_name, best_avg_f1 = find_best_model(X_train_pca, y_train)\n",
    "    \n",
    "    print(f\"Average F1 score for {best_model_name}: {best_avg_f1}\")\n",
    "    \n",
    "    if best_avg_f1 >= 0.7:\n",
    "        good_model_found = True\n",
    "        print(f\"Found a good model: {best_model_name} with an average F1 score of {best_avg_f1}\")\n",
    "    else:\n",
    "        print(f\"The model {best_model_name} did not meet the criteria, trying again...\")\n",
    "\n",
    "    # Get the feature names from the TF-IDF vectorizer\n",
    "    selected_feature_indices = k_best.get_support(indices=True)\n",
    "    feature_names = tfidf_vectorizer.get_feature_names_out()\n",
    "    selected_tokens = [feature_names[idx] for idx in selected_feature_indices]\n",
    "    \n",
    "print('----------------------------------------------------')\n",
    "\n",
    "# prediction of results using PCA data\n",
    "predicted_gender = best_model.predict(X_test_pca)\n",
    "\n",
    "# print the tokens from the selected k best features\n",
    "print(\"Tokens of selected k best features:\", selected_tokens)\n"
   ]
  },
  {
   "cell_type": "code",
   "execution_count": 23,
   "metadata": {},
   "outputs": [
    {
     "name": "stdout",
     "output_type": "stream",
     "text": [
      "Predictions for the first 5 examples:\n",
      "   test_example_id                                              story gender\n",
      "0                0  כל קיץ אני והמשפחה נוסעים לארצות הברית לוס אנג...      m\n",
      "1                1  הגעתי לשירות המדינה אחרי שנתיים כפעיל בתנועת \"...      m\n",
      "2                2  אחת האהבות הגדולות שלי אלו הכלבים שלי ושל אישת...      f\n",
      "3                3  רגע הגיוס לצבא היה הרגע הכי משמעותי עבורי, אני...      m\n",
      "4                4  אני הגעתי לברזיל ישר מקולומביה וגם אני עשיתי ע...      m\n",
      "\n",
      "Predictions for the last 5 examples:\n",
      "     test_example_id                                              story gender\n",
      "318              318  בשנה האחרונה הרגשתי די תקוע בעבודה, השגרה הפכה...      m\n",
      "319              319  אני ואילן חברים טובים מזה 20 שנה תמיד חלמנו לפ...      f\n",
      "320              320  מידי יום שישי אני נוהג לנסוע בתחבורה ציבורית ס...      f\n",
      "321              321  לפני מספר חודשים, בשיא התחלואה של הגל השני, עמ...      m\n",
      "322              322  היום בו דיווחתי על גניבה של האוטו שלי. בוקר אח...      m\n"
     ]
    }
   ],
   "source": [
    "# creating a DataFrame for the predictions\n",
    "df_predicted = pd.DataFrame({\n",
    "    'test_example_id': df_test.index,\n",
    "    'story': df_test['story'],\n",
    "    'gender': predicted_gender\n",
    "})\n",
    "\n",
    "# display the predictions for the first and last 5 rows\n",
    "print(\"Predictions for the first 5 examples:\")\n",
    "print(df_predicted.head())\n",
    "\n",
    "print(\"\\nPredictions for the last 5 examples:\")\n",
    "print(df_predicted.tail())"
   ]
  },
  {
   "cell_type": "markdown",
   "metadata": {},
   "source": [
    "### Save output to csv (optional)\n",
    "After you're done save your output to the 'classification_results.csv' csv file.<br/>\n",
    "We assume that the dataframe with your results contain the following columns:\n",
    "* column 1 (left column): 'test_example_id'  - the same id associated to each of the test stories to be predicted.\n",
    "* column 2 (right column): 'predicted_category' - the predicted gender value for each of the associated story. \n",
    "\n",
    "Assuming your predicted values are in the `df_predicted` dataframe, you should save you're results as following:"
   ]
  },
  {
   "cell_type": "code",
   "execution_count": 24,
   "metadata": {},
   "outputs": [],
   "source": [
    "df_predicted.to_csv('classification_results.csv',index=False)"
   ]
  }
 ],
 "metadata": {
  "celltoolbar": "Create Assignment",
  "kernelspec": {
   "display_name": "Python 3 (ipykernel)",
   "language": "python",
   "name": "python3"
  },
  "language_info": {
   "codemirror_mode": {
    "name": "ipython",
    "version": 3
   },
   "file_extension": ".py",
   "mimetype": "text/x-python",
   "name": "python",
   "nbconvert_exporter": "python",
   "pygments_lexer": "ipython3",
   "version": "3.11.4"
  }
 },
 "nbformat": 4,
 "nbformat_minor": 4
}
